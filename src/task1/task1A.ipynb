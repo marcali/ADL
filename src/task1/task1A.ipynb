{
 "cells": [
  {
   "cell_type": "code",
   "execution_count": null,
   "metadata": {},
   "outputs": [],
   "source": [
    "    \"\"\" Similar to fit_polynomial_sgd but with an added penalty term to the loss dependant on the L2-norm of the weight vector to encourage small weights.\n",
    "        INPUT: vectorised scalars in x(shape number of data points by 1), target values t(shape number of data points by 1), \n",
    "        learning rate lr, and batch size. M here represents the maximum degree of the class of polynomials we're optimising over\n",
    "        OUTPUT: optimum weight vector 𝐰̂(shape 1 by M+1) found by applying sgd to minimise squared distance of t and y=𝐰̂x while also trying \n",
    "        to minimise model complexity(in the form of polynomial degree)\n",
    "     \"\"\""
   ]
  }
 ],
 "metadata": {
  "language_info": {
   "name": "python"
  }
 },
 "nbformat": 4,
 "nbformat_minor": 2
}
